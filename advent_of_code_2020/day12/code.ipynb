{
 "cells": [
  {
   "cell_type": "markdown",
   "metadata": {},
   "source": [
    "**Part 1**"
   ]
  },
  {
   "cell_type": "code",
   "execution_count": 17,
   "metadata": {},
   "outputs": [
    {
     "name": "stdout",
     "output_type": "stream",
     "text": [
      "-60\n",
      "502\n",
      "Manhattan Distance: 562\n"
     ]
    }
   ],
   "source": [
    "raw_input = open('input.txt', 'r')\n",
    "\n",
    "heading = 90\n",
    "\n",
    "north_south = 0\n",
    "east_west = 0\n",
    "\n",
    "for line in raw_input:\n",
    "    if line[0] == 'N':\n",
    "        north_south += int(line[1:])\n",
    "    elif line[0] == 'S':\n",
    "        north_south -= int(line[1:])\n",
    "    elif line[0] == 'E':\n",
    "        east_west += int(line[1:])\n",
    "    elif line[0] == 'W':\n",
    "        east_west -= int(line[1:])\n",
    "    elif line[0] == 'R':\n",
    "        heading += int(line[1:])\n",
    "        heading = heading % 360\n",
    "    elif line[0] == 'L':\n",
    "        heading -= int(line[1:])\n",
    "        if heading < 0:\n",
    "            heading += 360\n",
    "    elif line[0] == 'F':\n",
    "        if heading == 0:\n",
    "            north_south += int(line[1:])\n",
    "        elif heading == 90:\n",
    "            east_west += int(line[1:])\n",
    "        elif heading == 180:\n",
    "            north_south -= int(line[1:])\n",
    "        elif heading == 270:\n",
    "            east_west -= int(line[1:])\n",
    "\n",
    "print(north_south)\n",
    "print(east_west)\n",
    "print('Manhattan Distance: ' + str(abs(north_south) + abs(east_west)))"
   ]
  },
  {
   "cell_type": "markdown",
   "metadata": {},
   "source": [
    "**Part 2**"
   ]
  },
  {
   "cell_type": "code",
   "execution_count": 27,
   "metadata": {},
   "outputs": [
    {
     "name": "stdout",
     "output_type": "stream",
     "text": [
      "54989\n",
      "46871\n",
      "Manhattan Distance: 101860\n"
     ]
    }
   ],
   "source": [
    "raw_input = open('input.txt', 'r')\n",
    "\n",
    "heading = 90\n",
    "\n",
    "north_south = 0\n",
    "east_west = 0\n",
    "\n",
    "wp = [10, 1]\n",
    "\n",
    "for line in raw_input:\n",
    "    if line[0] == 'N':\n",
    "        wp[1] += int(line[1:])\n",
    "    elif line[0] == 'S':\n",
    "        wp[1] -= int(line[1:])\n",
    "    elif line[0] == 'E':\n",
    "        wp[0] += int(line[1:])\n",
    "    elif line[0] == 'W':\n",
    "        wp[0] -= int(line[1:])\n",
    "    elif line[0] == 'R':\n",
    "        if int(line[1:]) == 90:\n",
    "            x = wp[0]\n",
    "            y = wp[1]\n",
    "            wp[0] = y\n",
    "            wp[1] = -x\n",
    "        elif int(line[1:]) == 180:\n",
    "            x = wp[0]\n",
    "            y = wp[1]\n",
    "            wp[0] = -x\n",
    "            wp[1] = -y\n",
    "        elif int(line[1:]) == 270:\n",
    "            x = wp[0]\n",
    "            y = wp[1]\n",
    "            wp[0] = -y\n",
    "            wp[1] = x\n",
    "    elif line[0] == 'L':\n",
    "        if int(line[1:]) == 90:\n",
    "            x = wp[0]\n",
    "            y = wp[1]\n",
    "            wp[0] = -y\n",
    "            wp[1] = x\n",
    "        elif int(line[1:]) == 180:\n",
    "            x = wp[0]\n",
    "            y = wp[1]\n",
    "            wp[0] = -x\n",
    "            wp[1] = -y\n",
    "        elif int(line[1:]) == 270:\n",
    "            x = wp[0]\n",
    "            y = wp[1]\n",
    "            wp[0] = y\n",
    "            wp[1] = -x\n",
    "    elif line[0] == 'F':\n",
    "        east_west += wp[0]*int(line[1:])\n",
    "        north_south += wp[1]*int(line[1:])\n",
    "\n",
    "print(north_south)\n",
    "print(east_west)\n",
    "print('Manhattan Distance: ' + str(abs(north_south) + abs(east_west)))"
   ]
  },
  {
   "cell_type": "code",
   "execution_count": null,
   "metadata": {},
   "outputs": [],
   "source": []
  }
 ],
 "metadata": {
  "kernelspec": {
   "display_name": "Python 3",
   "language": "python",
   "name": "python3"
  },
  "language_info": {
   "codemirror_mode": {
    "name": "ipython",
    "version": 3
   },
   "file_extension": ".py",
   "mimetype": "text/x-python",
   "name": "python",
   "nbconvert_exporter": "python",
   "pygments_lexer": "ipython3",
   "version": "3.7.1"
  }
 },
 "nbformat": 4,
 "nbformat_minor": 2
}
