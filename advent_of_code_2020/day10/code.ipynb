{
 "cells": [
  {
   "cell_type": "markdown",
   "id": "4c888f6a",
   "metadata": {},
   "source": [
    "**Part One**"
   ]
  },
  {
   "cell_type": "code",
   "execution_count": 2,
   "id": "38909dc3",
   "metadata": {},
   "outputs": [],
   "source": [
    "import numpy as np"
   ]
  },
  {
   "cell_type": "code",
   "execution_count": 3,
   "id": "2e2a01f3",
   "metadata": {},
   "outputs": [],
   "source": [
    "with open('input.txt') as file:\n",
    "    data = file.readlines()\n",
    "    data = [int(line.strip()) for line in data]"
   ]
  },
  {
   "cell_type": "code",
   "execution_count": 41,
   "id": "87aef28a",
   "metadata": {},
   "outputs": [],
   "source": [
    "data = np.array(data)\n",
    "data.sort()\n",
    "\n",
    "index = 0\n",
    "\n",
    "count1 = 1\n",
    "\n",
    "count3 = 1\n",
    "\n",
    "while index < (len(data) - 1):\n",
    "    if (data[index + 1] - data[index]) == 1:\n",
    "        count1 += 1\n",
    "    elif (data[index + 1] - data[index]) == 3:\n",
    "        count3 += 1\n",
    "    index += 1\n",
    "\n",
    "answer1 = count1 * count3"
   ]
  },
  {
   "cell_type": "code",
   "execution_count": 42,
   "id": "d28e9bdc",
   "metadata": {},
   "outputs": [
    {
     "data": {
      "text/plain": [
       "2059"
      ]
     },
     "execution_count": 42,
     "metadata": {},
     "output_type": "execute_result"
    }
   ],
   "source": [
    "answer1"
   ]
  },
  {
   "cell_type": "markdown",
   "id": "8462372d",
   "metadata": {},
   "source": [
    "**Part Two**"
   ]
  },
  {
   "cell_type": "code",
   "execution_count": 102,
   "id": "cedad667",
   "metadata": {},
   "outputs": [],
   "source": [
    "with open('input.txt') as file:\n",
    "    data = file.readlines()\n",
    "    data = [int(line.strip()) for line in data]"
   ]
  },
  {
   "cell_type": "code",
   "execution_count": 103,
   "id": "7d7e67fd",
   "metadata": {},
   "outputs": [],
   "source": [
    "data.sort()\n",
    "\n",
    "data = [0] + data\n",
    "data.append(max(data) + 3)\n",
    "\n",
    "checked = {}"
   ]
  },
  {
   "cell_type": "code",
   "execution_count": 104,
   "id": "4a15c52c",
   "metadata": {},
   "outputs": [],
   "source": [
    "def get_num_paths(pos):\n",
    "    \n",
    "    if pos == len(data) - 1:\n",
    "        return 1\n",
    "    \n",
    "    if pos in checked:\n",
    "        return checked[pos]\n",
    "    \n",
    "    total = 0\n",
    "    \n",
    "    for index in range(pos + 1, len(data)):\n",
    "        if (data[index] - data[pos]) <= 3:\n",
    "            total += get_num_paths(index)\n",
    "    checked[pos] = total\n",
    "    \n",
    "    return total"
   ]
  },
  {
   "cell_type": "code",
   "execution_count": 115,
   "id": "109d4e3a",
   "metadata": {},
   "outputs": [],
   "source": [
    "checked = {}\n",
    "\n",
    "answer2 = get_num_paths(0)"
   ]
  },
  {
   "cell_type": "code",
   "execution_count": 116,
   "id": "4a0e92f7",
   "metadata": {},
   "outputs": [
    {
     "data": {
      "text/plain": [
       "86812553324672"
      ]
     },
     "execution_count": 116,
     "metadata": {},
     "output_type": "execute_result"
    }
   ],
   "source": [
    "answer2"
   ]
  },
  {
   "cell_type": "code",
   "execution_count": null,
   "id": "ad30c4b1",
   "metadata": {},
   "outputs": [],
   "source": []
  }
 ],
 "metadata": {
  "kernelspec": {
   "display_name": "Python 3",
   "language": "python",
   "name": "python3"
  },
  "language_info": {
   "codemirror_mode": {
    "name": "ipython",
    "version": 3
   },
   "file_extension": ".py",
   "mimetype": "text/x-python",
   "name": "python",
   "nbconvert_exporter": "python",
   "pygments_lexer": "ipython3",
   "version": "3.8.8"
  }
 },
 "nbformat": 4,
 "nbformat_minor": 5
}
