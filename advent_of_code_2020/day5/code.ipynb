{
 "cells": [
  {
   "cell_type": "code",
   "execution_count": 22,
   "metadata": {},
   "outputs": [
    {
     "name": "stdout",
     "output_type": "stream",
     "text": [
      "890\n"
     ]
    }
   ],
   "source": [
    "raw_input = open('input.txt', 'r')\n",
    "\n",
    "max_val = 0\n",
    "\n",
    "for line in raw_input:\n",
    "    \n",
    "    rows = line[:7]\n",
    "    columns = line[7:10]\n",
    "    \n",
    "    num_rows = 2**len(rows)\n",
    "    num_cols = 2**len(columns)\n",
    "    \n",
    "    rows_list = range(0,num_rows)\n",
    "    cols_list = range(0,num_cols)\n",
    "    \n",
    "    for letter in rows:\n",
    "        num_rows = int(num_rows/2)\n",
    "        \n",
    "        if letter == 'F':\n",
    "            rows_list = rows_list[:int(num_rows)]\n",
    "        if letter == 'B':\n",
    "            rows_list = rows_list[int(num_rows):]\n",
    "            \n",
    "    for letter in columns:\n",
    "        num_cols = int(num_cols/2)\n",
    "        \n",
    "        if letter == 'L':\n",
    "            cols_list = cols_list[:int(num_cols)]\n",
    "        if letter == 'R':\n",
    "            cols_list = cols_list[int(num_cols):]\n",
    "    \n",
    "    if (rows_list[0]*8 + cols_list[0]) > max_val:\n",
    "        max_val = rows_list[0] * 8 + cols_list[0]\n",
    "\n",
    "print(max_val)"
   ]
  },
  {
   "cell_type": "code",
   "execution_count": 30,
   "metadata": {},
   "outputs": [],
   "source": [
    "raw_input = open('input.txt', 'r')\n",
    "\n",
    "seats = []\n",
    "\n",
    "for line in raw_input:\n",
    "    \n",
    "    rows = line[:7]\n",
    "    columns = line[7:10]\n",
    "    \n",
    "    num_rows = 2**len(rows)\n",
    "    num_cols = 2**len(columns)\n",
    "    \n",
    "    rows_list = range(0,num_rows)\n",
    "    cols_list = range(0,num_cols)\n",
    "    \n",
    "    for letter in rows:\n",
    "        num_rows = int(num_rows/2)\n",
    "        \n",
    "        if letter == 'F':\n",
    "            rows_list = rows_list[:int(num_rows)]\n",
    "        if letter == 'B':\n",
    "            rows_list = rows_list[int(num_rows):]\n",
    "            \n",
    "    for letter in columns:\n",
    "        num_cols = int(num_cols/2)\n",
    "        \n",
    "        if letter == 'L':\n",
    "            cols_list = cols_list[:int(num_cols)]\n",
    "        if letter == 'R':\n",
    "            cols_list = cols_list[int(num_cols):]\n",
    "    \n",
    "    seat = rows_list[0] * 8 + cols_list[0]\n",
    "    seats.append(seat)\n",
    "    seats.sort()"
   ]
  },
  {
   "cell_type": "code",
   "execution_count": 38,
   "metadata": {},
   "outputs": [
    {
     "name": "stdout",
     "output_type": "stream",
     "text": [
      "650\n",
      "652\n"
     ]
    }
   ],
   "source": [
    "for index in range(0,len(seats)):\n",
    "    if seats[index] != (index + seats[0]):\n",
    "        print(seats[index-1])\n",
    "        print(seats[index])\n",
    "        break"
   ]
  },
  {
   "cell_type": "code",
   "execution_count": null,
   "metadata": {},
   "outputs": [],
   "source": []
  }
 ],
 "metadata": {
  "kernelspec": {
   "display_name": "Python 3",
   "language": "python",
   "name": "python3"
  },
  "language_info": {
   "codemirror_mode": {
    "name": "ipython",
    "version": 3
   },
   "file_extension": ".py",
   "mimetype": "text/x-python",
   "name": "python",
   "nbconvert_exporter": "python",
   "pygments_lexer": "ipython3",
   "version": "3.7.1"
  }
 },
 "nbformat": 4,
 "nbformat_minor": 2
}
