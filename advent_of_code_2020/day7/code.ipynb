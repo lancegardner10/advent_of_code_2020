{
 "cells": [
  {
   "cell_type": "markdown",
   "metadata": {},
   "source": [
    "**Part 1**"
   ]
  },
  {
   "cell_type": "code",
   "execution_count": 13,
   "metadata": {},
   "outputs": [],
   "source": [
    "with open('input.txt') as file:\n",
    "    data = file.readlines()\n",
    "    data = [line.strip() for line in data]"
   ]
  },
  {
   "cell_type": "code",
   "execution_count": 22,
   "metadata": {},
   "outputs": [],
   "source": [
    "def get_num_bags(color):\n",
    "    lines = [line for line in data if color in line and line.index(color) != 0]\n",
    "    \n",
    "    all_colors = []\n",
    "    if len(lines) == 0:\n",
    "        return []\n",
    "    else:\n",
    "        colors = [line[:line.index(' bags')] for line in lines]\n",
    "        #colors = [color for color in colors if color not in all_colors]\n",
    "        \n",
    "        for color in colors:\n",
    "            all_colors.append(color)\n",
    "            bags = get_num_bags(color)\n",
    "            all_colors += bags\n",
    "            \n",
    "        unique_colors = []\n",
    "        for color in all_colors:\n",
    "            if color not in unique_colors:\n",
    "                unique_colors.append(color)\n",
    "        \n",
    "        return unique_colors"
   ]
  },
  {
   "cell_type": "code",
   "execution_count": 25,
   "metadata": {},
   "outputs": [],
   "source": [
    "answer = len(get_num_bags('shiny gold'))"
   ]
  },
  {
   "cell_type": "code",
   "execution_count": 26,
   "metadata": {},
   "outputs": [
    {
     "data": {
      "text/plain": [
       "164"
      ]
     },
     "execution_count": 26,
     "metadata": {},
     "output_type": "execute_result"
    }
   ],
   "source": [
    "answer"
   ]
  },
  {
   "cell_type": "markdown",
   "metadata": {},
   "source": [
    "**Part 2**"
   ]
  },
  {
   "cell_type": "code",
   "execution_count": 33,
   "metadata": {},
   "outputs": [],
   "source": [
    "def get_bag_count(color):\n",
    "    original_color = color\n",
    "    rule = ''\n",
    "    for line in data:\n",
    "        if line[:line.index(' bags')] == color:\n",
    "            rule = line\n",
    "            \n",
    "    if 'no' in rule:\n",
    "        return 1\n",
    "    \n",
    "    rule = rule[rule.index('contain')+8:].split()\n",
    "    \n",
    "    total = 0\n",
    "    i = 0\n",
    "    while i < len(rule):\n",
    "        count = int(rule[i])\n",
    "        color = rule[i+1] + ' ' + rule[i+2]\n",
    "        \n",
    "        total += count * get_bag_count(color)\n",
    "        \n",
    "        i += 4\n",
    "    if original_color == 'shiny gold':\n",
    "        return total\n",
    "    else:\n",
    "        return total + 1"
   ]
  },
  {
   "cell_type": "code",
   "execution_count": 34,
   "metadata": {},
   "outputs": [],
   "source": [
    "answer = get_bag_count('shiny gold')"
   ]
  },
  {
   "cell_type": "code",
   "execution_count": 35,
   "metadata": {},
   "outputs": [
    {
     "data": {
      "text/plain": [
       "7872"
      ]
     },
     "execution_count": 35,
     "metadata": {},
     "output_type": "execute_result"
    }
   ],
   "source": [
    "answer"
   ]
  },
  {
   "cell_type": "code",
   "execution_count": null,
   "metadata": {},
   "outputs": [],
   "source": []
  }
 ],
 "metadata": {
  "kernelspec": {
   "display_name": "Python 3",
   "language": "python",
   "name": "python3"
  },
  "language_info": {
   "codemirror_mode": {
    "name": "ipython",
    "version": 3
   },
   "file_extension": ".py",
   "mimetype": "text/x-python",
   "name": "python",
   "nbconvert_exporter": "python",
   "pygments_lexer": "ipython3",
   "version": "3.8.5"
  }
 },
 "nbformat": 4,
 "nbformat_minor": 4
}
