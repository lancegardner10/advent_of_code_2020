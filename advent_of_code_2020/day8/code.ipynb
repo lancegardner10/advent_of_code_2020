{
 "cells": [
  {
   "cell_type": "markdown",
   "id": "3c50c834",
   "metadata": {},
   "source": [
    "**Part One**"
   ]
  },
  {
   "cell_type": "code",
   "execution_count": 16,
   "id": "385646e8",
   "metadata": {},
   "outputs": [],
   "source": [
    "with open('input.txt') as file:\n",
    "    data = file.readlines()\n",
    "    data = [line.strip() for line in data]"
   ]
  },
  {
   "cell_type": "code",
   "execution_count": 11,
   "id": "1d0d7f90",
   "metadata": {},
   "outputs": [],
   "source": [
    "lines_evaluated = []\n",
    "\n",
    "line_index = 0\n",
    "\n",
    "accumulator = 0\n",
    "\n",
    "line_not_evaluated = True\n",
    "\n",
    "while line_not_evaluated:\n",
    "    \n",
    "    lines_evaluated.append(line_index)\n",
    "    \n",
    "    if data[line_index].find('acc') == 0:\n",
    "        accumulator += int(data[line_index].split(' ')[1])\n",
    "        line_index += 1\n",
    "        \n",
    "    if data[line_index].find('nop') == 0:\n",
    "        line_index += 1\n",
    "    \n",
    "    if data[line_index].find('jmp') == 0:\n",
    "        line_index += int(data[line_index].split(' ')[1])\n",
    "    \n",
    "    if line_index in lines_evaluated:\n",
    "        line_not_evaluated = False\n",
    "\n",
    "answer = accumulator"
   ]
  },
  {
   "cell_type": "code",
   "execution_count": 12,
   "id": "d887a797",
   "metadata": {},
   "outputs": [
    {
     "data": {
      "text/plain": [
       "2014"
      ]
     },
     "execution_count": 12,
     "metadata": {},
     "output_type": "execute_result"
    }
   ],
   "source": [
    "accumulator"
   ]
  },
  {
   "cell_type": "markdown",
   "id": "bb84dfd8",
   "metadata": {},
   "source": [
    "**Part Two**"
   ]
  },
  {
   "cell_type": "code",
   "execution_count": 23,
   "id": "427bc800",
   "metadata": {},
   "outputs": [],
   "source": [
    "for index in range(len(data)):\n",
    "\n",
    "    if data[index].find('acc') == 0:\n",
    "        continue\n",
    "    \n",
    "    lines_evaluated = []\n",
    "\n",
    "    line_index = 0\n",
    "\n",
    "    accumulator = 0\n",
    "\n",
    "    line_not_evaluated = True\n",
    "    \n",
    "    at_end_of_data = False\n",
    "\n",
    "    while line_not_evaluated and not at_end_of_data:\n",
    "        \n",
    "        lines_evaluated.append(line_index)\n",
    "        \n",
    "        line = data[line_index]\n",
    "        \n",
    "        if line.find('nop') == 0 and line_index == index:\n",
    "            line = line.replace('nop', 'jmp')\n",
    "        elif line.find('jmp') == 0 and line_index == index:\n",
    "            line = line.replace('jmp', 'nop')\n",
    "        \n",
    "        if line.find('acc') == 0:\n",
    "            accumulator += int(line.split(' ')[1])\n",
    "            line_index += 1\n",
    "            \n",
    "        if line.find('nop') == 0:\n",
    "            line_index += 1\n",
    "        \n",
    "        if line.find('jmp') == 0:\n",
    "            line_index += int(data[line_index].split(' ')[1])\n",
    "        \n",
    "        if line_index in lines_evaluated:\n",
    "            line_not_evaluated = False\n",
    "            \n",
    "        if line_index == len(data):\n",
    "            at_end_of_data = True\n",
    "    \n",
    "    if at_end_of_data:\n",
    "        break\n",
    "\n",
    "answer = accumulator"
   ]
  },
  {
   "cell_type": "code",
   "execution_count": 24,
   "id": "56189e44",
   "metadata": {},
   "outputs": [
    {
     "data": {
      "text/plain": [
       "2251"
      ]
     },
     "execution_count": 24,
     "metadata": {},
     "output_type": "execute_result"
    }
   ],
   "source": [
    "answer"
   ]
  },
  {
   "cell_type": "code",
   "execution_count": null,
   "id": "61116c4c",
   "metadata": {},
   "outputs": [],
   "source": []
  }
 ],
 "metadata": {
  "kernelspec": {
   "display_name": "Python 3",
   "language": "python",
   "name": "python3"
  },
  "language_info": {
   "codemirror_mode": {
    "name": "ipython",
    "version": 3
   },
   "file_extension": ".py",
   "mimetype": "text/x-python",
   "name": "python",
   "nbconvert_exporter": "python",
   "pygments_lexer": "ipython3",
   "version": "3.8.8"
  }
 },
 "nbformat": 4,
 "nbformat_minor": 5
}
