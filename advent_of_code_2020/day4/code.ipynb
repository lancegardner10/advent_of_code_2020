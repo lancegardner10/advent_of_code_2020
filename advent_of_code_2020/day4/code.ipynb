{
 "cells": [
  {
   "cell_type": "code",
   "execution_count": 8,
   "metadata": {},
   "outputs": [],
   "source": [
    "import re"
   ]
  },
  {
   "cell_type": "code",
   "execution_count": 15,
   "metadata": {},
   "outputs": [],
   "source": [
    "def special_match(strg, search=re.compile(r'[^a-f0-9.]').search):\n",
    "    return not bool(search(strg))\n",
    "\n",
    "def special_match2(strg, search=re.compile(r'[^0-9.]').search):\n",
    "    return not bool(search(strg))"
   ]
  },
  {
   "cell_type": "code",
   "execution_count": 6,
   "metadata": {},
   "outputs": [],
   "source": [
    "raw_input = open('input.txt', 'r')\n",
    "counter = 0\n",
    "all_entries = []\n",
    "cur_entry = []\n",
    "for line in raw_input:\n",
    "    if line != '\\n':\n",
    "        cur_entry.append(line.strip())\n",
    "    else:\n",
    "        all_entries.append(' '.join(cur_entry))\n",
    "        cur_entry = []\n",
    "all_entries.append(' '.join(cur_entry))"
   ]
  },
  {
   "cell_type": "code",
   "execution_count": 7,
   "metadata": {},
   "outputs": [
    {
     "name": "stdout",
     "output_type": "stream",
     "text": [
      "230\n"
     ]
    }
   ],
   "source": [
    "good_counter = 0\n",
    "for entry in all_entries:\n",
    "    attributes = []\n",
    "    for element in entry.split(' '):\n",
    "        attribute = element.split(':')[0]\n",
    "        attributes.append(attribute)\n",
    "    if 'byr' in attributes and 'iyr' in attributes and 'eyr' in attributes and 'hgt' in attributes and 'hcl' in attributes and 'ecl' in attributes and 'pid' in attributes:\n",
    "        good_counter += 1\n",
    "print(good_counter)"
   ]
  },
  {
   "cell_type": "code",
   "execution_count": null,
   "metadata": {},
   "outputs": [],
   "source": [
    "good_counter = 0\n",
    "#entry_num = 0\n",
    "for entry in all_entries:\n",
    "    #print(entry)\n",
    "    attributes = []\n",
    "    for element in entry.split(' '):\n",
    "        attributes.append(element.split(':')[0])\n",
    "    if 'byr' in attributes and 'iyr' in attributes and 'eyr' in attributes and 'hgt' in attributes and 'hcl' in attributes and 'ecl' in attributes and 'pid' in attributes:\n",
    "        valid = True\n",
    "        for attribute in entry.split(' '):\n",
    "            if attribute.split(':')[0] == 'byr':\n",
    "                if not (len(attribute.split(':')[1]) == 4 and 2002 >= int(attribute.split(':')[1]) >= 1920):\n",
    "                    valid = False\n",
    "            if attribute.split(':')[0] == 'iyr':\n",
    "                if not (len(attribute.split(':')[1]) == 4 and 2020 >= int(attribute.split(':')[1]) >= 2010):\n",
    "                    valid = False\n",
    "            if attribute.split(':')[0] == 'eyr':\n",
    "                if not (len(attribute.split(':')[1]) == 4 and 2030 >= int(attribute.split(':')[1]) >= 2020):\n",
    "                    valid = False\n",
    "            if attribute.split(':')[0] == 'hgt':\n",
    "                if attribute.split(':')[1].find('in') != -1:\n",
    "                    if not 76 >= int(attribute.split(':')[1].split('in')[0]) >= 59:\n",
    "                        valid = False\n",
    "                elif attribute.split(':')[1].find('cm') != -1:\n",
    "                    if not 193 >= int(attribute.split(':')[1].split('cm')[0]) >= 150:\n",
    "                        valid = False\n",
    "                else:\n",
    "                    valid = False\n",
    "            if attribute.split(':')[0] == 'hcl':\n",
    "                if attribute.split(':')[1][0] != '#':\n",
    "                    valid = False\n",
    "                else:\n",
    "                    therest = attribute.split(':')[1][1:]\n",
    "                    if not (special_match(therest) and len(therest) == 6):\n",
    "                        valid = False\n",
    "            if attribute.split(':')[0] == 'ecl':\n",
    "                if not attribute.split(':')[1] in ['amb', 'blu', 'brn', 'gry', 'grn', 'hzl', 'oth']:\n",
    "                    valid = False\n",
    "            if attribute.split(':')[0] == 'pid':\n",
    "                if not (len(attribute.split(':')[1]) == 9 and special_match2(attribute.split(':')[1])):\n",
    "                    valid = False\n",
    "        if valid:\n",
    "            good_counter += 1\n",
    "print(good_counter)"
   ]
  },
  {
   "cell_type": "code",
   "execution_count": null,
   "metadata": {},
   "outputs": [],
   "source": []
  }
 ],
 "metadata": {
  "kernelspec": {
   "display_name": "Python 3",
   "language": "python",
   "name": "python3"
  },
  "language_info": {
   "codemirror_mode": {
    "name": "ipython",
    "version": 3
   },
   "file_extension": ".py",
   "mimetype": "text/x-python",
   "name": "python",
   "nbconvert_exporter": "python",
   "pygments_lexer": "ipython3",
   "version": "3.7.1"
  }
 },
 "nbformat": 4,
 "nbformat_minor": 2
}
