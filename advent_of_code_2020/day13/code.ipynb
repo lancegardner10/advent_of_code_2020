{
 "cells": [
  {
   "cell_type": "markdown",
   "metadata": {},
   "source": [
    "**Part One**"
   ]
  },
  {
   "cell_type": "code",
   "execution_count": 21,
   "metadata": {},
   "outputs": [
    {
     "data": {
      "text/plain": [
       "1915"
      ]
     },
     "execution_count": 21,
     "metadata": {},
     "output_type": "execute_result"
    }
   ],
   "source": [
    "raw_input = open('input.txt', 'r')\n",
    "\n",
    "buses = []\n",
    "start_delay = 0\n",
    "\n",
    "for line in raw_input:\n",
    "    if line.find('x') == -1:\n",
    "        start_delay = int(line)\n",
    "    else:\n",
    "        all_vals = line.split(',')\n",
    "        for val in all_vals:\n",
    "            if val != 'x':\n",
    "                buses.append(int(val))\n",
    "\n",
    "min_wait = 1000000\n",
    "min_bus = 0\n",
    "\n",
    "for bus in buses:\n",
    "    if bus - (start_delay % bus) < min_wait:\n",
    "        min_wait = bus - (start_delay % bus)\n",
    "        min_bus = bus\n",
    "min_wait * min_bus"
   ]
  },
  {
   "cell_type": "markdown",
   "metadata": {},
   "source": [
    "**Part Two**"
   ]
  },
  {
   "cell_type": "code",
   "execution_count": 2,
   "metadata": {},
   "outputs": [],
   "source": [
    "import time"
   ]
  },
  {
   "cell_type": "code",
   "execution_count": null,
   "metadata": {},
   "outputs": [],
   "source": [
    "raw_input = open('input.txt', 'r')\n",
    "\n",
    "buses = {}\n",
    "\n",
    "for line in raw_input:\n",
    "    if line.find('x') == -1:\n",
    "        pass\n",
    "    else:\n",
    "        all_vals = line.split(',')\n",
    "        counter = 0\n",
    "        for val in all_vals:\n",
    "            if val != 'x':\n",
    "                buses[counter] = int(val)\n",
    "            counter += 1\n",
    "\n",
    "new_counter = 37805729902\n",
    "mini_test = True\n",
    "start_time = time.monotonic()\n",
    "#buses = {0:17,2:13,3:19}\n",
    "while True:\n",
    "    \n",
    "    for value in buses:\n",
    "        if (value + new_counter) % buses[value] != 0:\n",
    "            mini_test = False\n",
    "            break\n",
    "    \n",
    "    if mini_test == False:\n",
    "        mini_test = True\n",
    "    else:\n",
    "        print('this is what we want')\n",
    "        print(time.monotonic() - start_time)\n",
    "        break\n",
    "    \n",
    "    new_counter += buses[0]\n",
    "    \n",
    "    if time.monotonic() - start_time > 100000:\n",
    "        test = False\n",
    "        print('time out')\n",
    "        break\n",
    "\n",
    "print(new_counter)"
   ]
  },
  {
   "cell_type": "code",
   "execution_count": null,
   "metadata": {},
   "outputs": [],
   "source": []
  }
 ],
 "metadata": {
  "kernelspec": {
   "display_name": "Python 3",
   "language": "python",
   "name": "python3"
  },
  "language_info": {
   "codemirror_mode": {
    "name": "ipython",
    "version": 3
   },
   "file_extension": ".py",
   "mimetype": "text/x-python",
   "name": "python",
   "nbconvert_exporter": "python",
   "pygments_lexer": "ipython3",
   "version": "3.7.1"
  }
 },
 "nbformat": 4,
 "nbformat_minor": 2
}
