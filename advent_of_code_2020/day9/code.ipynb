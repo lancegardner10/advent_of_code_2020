{
 "cells": [
  {
   "cell_type": "markdown",
   "metadata": {},
   "source": [
    "**Part One**"
   ]
  },
  {
   "cell_type": "code",
   "execution_count": 1,
   "metadata": {},
   "outputs": [],
   "source": [
    "with open('input.txt') as file:\n",
    "    data = file.readlines()\n",
    "    data = [line.strip() for line in data]"
   ]
  },
  {
   "cell_type": "code",
   "execution_count": 2,
   "metadata": {},
   "outputs": [],
   "source": [
    "answer1 = 'sadness'\n",
    "\n",
    "prev_25 = []\n",
    "\n",
    "for line_index in range(len(data)):  \n",
    "    \n",
    "    if line_index < 25:\n",
    "        prev_25.append(int(data[line_index]))\n",
    "        continue\n",
    "    \n",
    "    conditions = False\n",
    "    \n",
    "    for value1 in prev_25:\n",
    "        for value2 in prev_25:\n",
    "            \n",
    "            if value1 == value2:\n",
    "                continue\n",
    "                \n",
    "            if (value1 + value2) == int(data[line_index]):\n",
    "                conditions = True\n",
    "    \n",
    "    if not conditions:\n",
    "        answer1 = int(data[line_index])\n",
    "        break\n",
    "        \n",
    "    prev_25[line_index % 25] = int(data[line_index])"
   ]
  },
  {
   "cell_type": "code",
   "execution_count": 3,
   "metadata": {},
   "outputs": [
    {
     "data": {
      "text/plain": [
       "57195069"
      ]
     },
     "execution_count": 3,
     "metadata": {},
     "output_type": "execute_result"
    }
   ],
   "source": [
    "answer1"
   ]
  },
  {
   "cell_type": "markdown",
   "metadata": {},
   "source": [
    "**Part Two**"
   ]
  },
  {
   "cell_type": "code",
   "execution_count": 4,
   "metadata": {},
   "outputs": [],
   "source": [
    "import numpy as np"
   ]
  },
  {
   "cell_type": "code",
   "execution_count": 6,
   "metadata": {},
   "outputs": [],
   "source": [
    "all_nums = []\n",
    "\n",
    "for line_index in range(len(data)):\n",
    "    all_nums.append(int(data[line_index]))\n",
    "\n",
    "count = 0\n",
    "\n",
    "escape = False\n",
    "\n",
    "for starting_point in range(len(all_nums)):\n",
    "    \n",
    "    count = 0\n",
    "    \n",
    "    for current_point in range(starting_point, len(all_nums)):\n",
    "        \n",
    "        count += all_nums[current_point]\n",
    "        \n",
    "        if count > answer1:\n",
    "            break\n",
    "        elif count == answer1:\n",
    "            escape = True\n",
    "            break\n",
    "    \n",
    "    if escape:\n",
    "        break\n",
    "\n",
    "relevant_points = np.array(all_nums[starting_point:current_point])\n",
    "\n",
    "answer2 = relevant_points.max() + relevant_points.min()"
   ]
  },
  {
   "cell_type": "code",
   "execution_count": 7,
   "metadata": {},
   "outputs": [
    {
     "data": {
      "text/plain": [
       "7409241"
      ]
     },
     "execution_count": 7,
     "metadata": {},
     "output_type": "execute_result"
    }
   ],
   "source": [
    "answer2"
   ]
  },
  {
   "cell_type": "code",
   "execution_count": null,
   "metadata": {},
   "outputs": [],
   "source": []
  }
 ],
 "metadata": {
  "kernelspec": {
   "display_name": "Python 3",
   "language": "python",
   "name": "python3"
  },
  "language_info": {
   "codemirror_mode": {
    "name": "ipython",
    "version": 3
   },
   "file_extension": ".py",
   "mimetype": "text/x-python",
   "name": "python",
   "nbconvert_exporter": "python",
   "pygments_lexer": "ipython3",
   "version": "3.8.5"
  }
 },
 "nbformat": 4,
 "nbformat_minor": 5
}
