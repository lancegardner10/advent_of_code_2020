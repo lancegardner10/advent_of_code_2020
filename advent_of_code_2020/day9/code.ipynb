{
 "cells": [
  {
   "cell_type": "markdown",
   "id": "74bcc317",
   "metadata": {},
   "source": [
    "**Part One**"
   ]
  },
  {
   "cell_type": "code",
   "execution_count": 1,
   "id": "6e8472ff",
   "metadata": {},
   "outputs": [],
   "source": [
    "with open('input.txt') as file:\n",
    "    data = file.readlines()\n",
    "    data = [line.strip() for line in data]"
   ]
  },
  {
   "cell_type": "code",
   "execution_count": 22,
   "id": "d8af23ef",
   "metadata": {},
   "outputs": [],
   "source": [
    "answer = 'sadness'\n",
    "\n",
    "prev_25 = []\n",
    "\n",
    "for line_index in range(len(data)):  \n",
    "    \n",
    "    if line_index < 25:\n",
    "        prev_25.append(int(data[line_index]))\n",
    "        continue\n",
    "    \n",
    "    conditions = False\n",
    "    \n",
    "    for value1 in prev_25:\n",
    "        for value2 in prev_25:\n",
    "            \n",
    "            if value1 == value2:\n",
    "                continue\n",
    "                \n",
    "            if (value1 + value2) == int(data[line_index]):\n",
    "                conditions = True\n",
    "    \n",
    "    if not conditions:\n",
    "        answer = int(data[line_index])\n",
    "        break\n",
    "        \n",
    "    prev_25[line_index % 25] = int(data[line_index])"
   ]
  },
  {
   "cell_type": "code",
   "execution_count": 23,
   "id": "bc8440f7",
   "metadata": {},
   "outputs": [
    {
     "data": {
      "text/plain": [
       "57195069"
      ]
     },
     "execution_count": 23,
     "metadata": {},
     "output_type": "execute_result"
    }
   ],
   "source": [
    "answer"
   ]
  },
  {
   "cell_type": "code",
   "execution_count": null,
   "id": "f45c1c84",
   "metadata": {},
   "outputs": [],
   "source": []
  }
 ],
 "metadata": {
  "kernelspec": {
   "display_name": "Python 3",
   "language": "python",
   "name": "python3"
  },
  "language_info": {
   "codemirror_mode": {
    "name": "ipython",
    "version": 3
   },
   "file_extension": ".py",
   "mimetype": "text/x-python",
   "name": "python",
   "nbconvert_exporter": "python",
   "pygments_lexer": "ipython3",
   "version": "3.8.8"
  }
 },
 "nbformat": 4,
 "nbformat_minor": 5
}
